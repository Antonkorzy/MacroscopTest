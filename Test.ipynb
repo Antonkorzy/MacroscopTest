{
 "cells": [
  {
   "cell_type": "markdown",
   "metadata": {},
   "source": [
    "# Установка необходимых пакетов\n",
    "Запускать в случае работы на локальном ПК в окружении Anaconda (единожды)"
   ]
  },
  {
   "cell_type": "code",
   "execution_count": null,
   "metadata": {},
   "outputs": [],
   "source": [
    "print(\"opencv is installing\")\n",
    "!conda install -q -y -c anaconda opencv=3.4.1\n",
    "\n",
    "print(\"tensorflow is installing\")\n",
    "!conda install -q -y tensorflow=1.13.1\n",
    "\n",
    "print(\"keras is installing\")\n",
    "!conda install -q -y keras=2.2.4\n",
    "\n",
    "print(\"matplotlib is installing\")\n",
    "!conda install -q -y matplotlib=3.0.3"
   ]
  },
  {
   "cell_type": "markdown",
   "metadata": {},
   "source": [
    "# Загрузка аннотаций\n",
    "Здесь откройте файл с аннотациями и считайте все данные\n",
    "\n",
    "Формат аннотаций:\n",
    "\n",
    "имя_файла upper_face_corner_x upper_face_corner_y bottom_face_corner_x bottom_face_corner_y left_eye_x left_eye_y right_eye_x right_eye_y nose_x nose_y left_mouth_x left_mouth_y right_mouth_x right_mouth_y\n",
    "\n",
    "Координаты левого верхнего и правого нижнего углов описывающего прямоугольника заданы относительно изображения. Координаты лэндмарок - относительно описывающего прямоугольника"
   ]
  },
  {
   "cell_type": "code",
   "execution_count": null,
   "metadata": {},
   "outputs": [],
   "source": [
    "def load_annotations():\n",
    "    \n",
    "    return annotations\n",
    "\n",
    "annotations = load_annotations()"
   ]
  },
  {
   "cell_type": "markdown",
   "metadata": {},
   "source": [
    "# Отображение изображений\n",
    "Здесь загрузите и отобразите все изображения. Рекомендуется использовать реализованный метод отображения."
   ]
  },
  {
   "cell_type": "code",
   "execution_count": null,
   "metadata": {},
   "outputs": [],
   "source": [
    "from matplotlib import pyplot as plt\n",
    "%matplotlib inline  \n",
    "\n",
    "def load_images(annotations):\n",
    "\n",
    "    return images\n",
    "\n",
    "def show_images(images):\n",
    "    '''\n",
    "    Функция для ин-лайн отображения изображений\n",
    "    Входные параметры:\n",
    "    images: numpy uint8 массив изображений в формате BGR\n",
    "    '''\n",
    "    columns = 2\n",
    "    images_count = len(images)\n",
    "    plt.figure(figsize=(15,40))\n",
    "    \n",
    "    for i, image in enumerate(images):\n",
    "        plt.subplot(images_count / columns + 1, columns, i + 1)\n",
    "        image = image/255.\n",
    "        plt.imshow(image[:,:,::-1])\n",
    "    \n",
    "images = load_images(annotations)\n",
    "\n",
    "show_images(images)"
   ]
  },
  {
   "cell_type": "markdown",
   "metadata": {},
   "source": [
    "# Отображение рамок лиц и лэндмарок\n",
    "Здесь отобразите изображения с нарисованными рамками и лэндмарками"
   ]
  },
  {
   "cell_type": "code",
   "execution_count": null,
   "metadata": {},
   "outputs": [],
   "source": [
    "def draw_all_and_show_images(annotations):\n",
    "    \n",
    "    \n",
    "    show_images(images)\n",
    "    \n",
    "draw_all_and_show_images()"
   ]
  },
  {
   "cell_type": "markdown",
   "metadata": {},
   "source": [
    "# Наложение модели очков\n",
    "Здесь реализуйте автоматическое наложение очков на лица на основании ключевых точек (лэндмарок) и отобразите"
   ]
  },
  {
   "cell_type": "code",
   "execution_count": null,
   "metadata": {},
   "outputs": [],
   "source": [
    "def add_glasses_and_show_images(annotations):\n",
    "    \n",
    "    show_images(images)\n",
    "    \n",
    "add_glasses_and_show_images()"
   ]
  }
 ],
 "metadata": {
  "kernelspec": {
   "display_name": "Python 3",
   "language": "python",
   "name": "python3"
  },
  "language_info": {
   "codemirror_mode": {
    "name": "ipython",
    "version": 3
   },
   "file_extension": ".py",
   "mimetype": "text/x-python",
   "name": "python",
   "nbconvert_exporter": "python",
   "pygments_lexer": "ipython3",
   "version": "3.6.8"
  },
  "toc": {
   "base_numbering": 1,
   "nav_menu": {},
   "number_sections": true,
   "sideBar": true,
   "skip_h1_title": false,
   "title_cell": "Table of Contents",
   "title_sidebar": "Contents",
   "toc_cell": false,
   "toc_position": {},
   "toc_section_display": true,
   "toc_window_display": false
  },
  "varInspector": {
   "cols": {
    "lenName": 16,
    "lenType": 16,
    "lenVar": 40
   },
   "kernels_config": {
    "python": {
     "delete_cmd_postfix": "",
     "delete_cmd_prefix": "del ",
     "library": "var_list.py",
     "varRefreshCmd": "print(var_dic_list())"
    },
    "r": {
     "delete_cmd_postfix": ") ",
     "delete_cmd_prefix": "rm(",
     "library": "var_list.r",
     "varRefreshCmd": "cat(var_dic_list()) "
    }
   },
   "types_to_exclude": [
    "module",
    "function",
    "builtin_function_or_method",
    "instance",
    "_Feature"
   ],
   "window_display": false
  }
 },
 "nbformat": 4,
 "nbformat_minor": 2
}
